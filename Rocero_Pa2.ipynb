{
 "cells": [
  {
   "cell_type": "markdown",
   "id": "5954f772-3b6b-4749-8bea-a69cfc8929f2",
   "metadata": {},
   "source": [
    "# Normalization Problem"
   ]
  },
  {
   "cell_type": "code",
   "execution_count": 2,
   "id": "5b4348e3-bc90-411a-b9dc-f159d5731905",
   "metadata": {},
   "outputs": [
    {
     "name": "stdout",
     "output_type": "stream",
     "text": [
      "Origial Value: \n",
      " [[0.37821599 0.04187895 0.07844642 0.24557588 0.55283743]\n",
      " [0.74999649 0.49806591 0.75614145 0.28815916 0.3094089 ]\n",
      " [0.9281654  0.08364805 0.47308614 0.4186179  0.68921463]\n",
      " [0.64802812 0.740649   0.16926131 0.11575902 0.91036623]\n",
      " [0.99416337 0.84031066 0.45744658 0.26382506 0.49592852]] \n",
      " Normalized Value: \n",
      " [[-0.3781913  -1.56839919 -1.43899659 -0.8475696   0.23974782]\n",
      " [ 0.93744162  0.04592586  0.95918699 -0.69687864 -0.62168142]\n",
      " [ 1.56793428 -1.42058938 -0.04247091 -0.23521963  0.72235066]\n",
      " [ 0.57660251  0.90436329 -1.11762668 -1.30695714  1.50494771]\n",
      " [ 1.80148366  1.25703959 -0.09781518 -0.78299056  0.03836222]]\n"
     ]
    }
   ],
   "source": [
    "#start\n",
    "\n",
    "#import numerical python library\n",
    "import numpy as np\n",
    "\n",
    "#create random 5 by 5 array\n",
    "X = np.random.rand(5,5)\n",
    "\n",
    "#formula for the normalized values\n",
    "Z = (X - X.mean()) / X.std()\n",
    "\n",
    "#store the normalized values in the file X_normalized.npy\n",
    "np.save(\"X_normalized.npy\",Z)\n",
    "\n",
    "#print the original and normalized value\n",
    "print (\"Origial Value: \\n\", X, \"\\n Normalized Value: \\n\", Z)"
   ]
  },
  {
   "cell_type": "markdown",
   "id": "472bfa14-77bb-425d-8cf5-617477ceb1cd",
   "metadata": {},
   "source": [
    "# Divisible by 3 Problem"
   ]
  },
  {
   "cell_type": "code",
   "execution_count": 4,
   "id": "dab16b68-8715-468f-ba02-3698001e1328",
   "metadata": {},
   "outputs": [
    {
     "name": "stdout",
     "output_type": "stream",
     "text": [
      "[[  1   2   3   4   5   6   7   8   9  10]\n",
      " [ 11  12  13  14  15  16  17  18  19  20]\n",
      " [ 21  22  23  24  25  26  27  28  29  30]\n",
      " [ 31  32  33  34  35  36  37  38  39  40]\n",
      " [ 41  42  43  44  45  46  47  48  49  50]\n",
      " [ 51  52  53  54  55  56  57  58  59  60]\n",
      " [ 61  62  63  64  65  66  67  68  69  70]\n",
      " [ 71  72  73  74  75  76  77  78  79  80]\n",
      " [ 81  82  83  84  85  86  87  88  89  90]\n",
      " [ 91  92  93  94  95  96  97  98  99 100]]\n"
     ]
    }
   ],
   "source": [
    "#start\n",
    "\n",
    "#import numerical python\n",
    "import numpy as np\n",
    "\n",
    "#create array of all first 100 positive integers\n",
    "A = np.array(np.arange(1,101,1))\n",
    "\n",
    "#resize the array to be 10 rows and 10 columns\n",
    "A.resize(10,10)\n",
    "\n",
    "#holds an array that has each element squared\n",
    "Squared_A = np.square(A)\n",
    "\n",
    "#stores every element from squared_a that is divisible by 3\n",
    "Divide_by_3 = Squared_A[A%3==0]\n",
    "\n",
    "#store the array of elements that are divisible by three in 'Divisible_by_3.npy'\n",
    "np.save('Divide_by_3.npy',Divide_by_3)\n",
    "\n",
    "#print the value of a\n",
    "print (A)\n"
   ]
  },
  {
   "cell_type": "code",
   "execution_count": null,
   "id": "420c8028-4376-4173-aa20-3e379a2ddcf8",
   "metadata": {},
   "outputs": [],
   "source": []
  }
 ],
 "metadata": {
  "kernelspec": {
   "display_name": "Python 3 (ipykernel)",
   "language": "python",
   "name": "python3"
  },
  "language_info": {
   "codemirror_mode": {
    "name": "ipython",
    "version": 3
   },
   "file_extension": ".py",
   "mimetype": "text/x-python",
   "name": "python",
   "nbconvert_exporter": "python",
   "pygments_lexer": "ipython3",
   "version": "3.12.4"
  }
 },
 "nbformat": 4,
 "nbformat_minor": 5
}
